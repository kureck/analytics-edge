{
 "cells": [
  {
   "cell_type": "code",
   "execution_count": 23,
   "metadata": {
    "collapsed": true
   },
   "outputs": [],
   "source": [
    "%matplotlib inline\n",
    "import pandas as pd\n",
    "import numpy as np\n",
    "import statsmodels.formula.api as sm"
   ]
  },
  {
   "cell_type": "code",
   "execution_count": 26,
   "metadata": {
    "collapsed": false
   },
   "outputs": [],
   "source": [
    "climate = pd.read_csv('./data/climate_change.csv')\n",
    "renamed = {'CFC-11': 'CFC11', 'CFC-12': 'CFC12'}\n",
    "climate.rename(columns=renamed, inplace=True)"
   ]
  },
  {
   "cell_type": "code",
   "execution_count": 27,
   "metadata": {
    "collapsed": false
   },
   "outputs": [],
   "source": [
    "climate_train = climate.loc[climate.Year <= 2006]\n",
    "climate_test = climate.loc[climate.Year > 2006]"
   ]
  },
  {
   "cell_type": "code",
   "execution_count": 28,
   "metadata": {
    "collapsed": false
   },
   "outputs": [
    {
     "data": {
      "text/html": [
       "<table class=\"simpletable\">\n",
       "<caption>OLS Regression Results</caption>\n",
       "<tr>\n",
       "  <th>Dep. Variable:</th>          <td>Temp</td>       <th>  R-squared:         </th> <td>   0.751</td>\n",
       "</tr>\n",
       "<tr>\n",
       "  <th>Model:</th>                   <td>OLS</td>       <th>  Adj. R-squared:    </th> <td>   0.744</td>\n",
       "</tr>\n",
       "<tr>\n",
       "  <th>Method:</th>             <td>Least Squares</td>  <th>  F-statistic:       </th> <td>   103.6</td>\n",
       "</tr>\n",
       "<tr>\n",
       "  <th>Date:</th>             <td>Thu, 30 Jun 2016</td> <th>  Prob (F-statistic):</th> <td>1.94e-78</td>\n",
       "</tr>\n",
       "<tr>\n",
       "  <th>Time:</th>                 <td>08:08:08</td>     <th>  Log-Likelihood:    </th> <td>  280.10</td>\n",
       "</tr>\n",
       "<tr>\n",
       "  <th>No. Observations:</th>      <td>   284</td>      <th>  AIC:               </th> <td>  -542.2</td>\n",
       "</tr>\n",
       "<tr>\n",
       "  <th>Df Residuals:</th>          <td>   275</td>      <th>  BIC:               </th> <td>  -509.4</td>\n",
       "</tr>\n",
       "<tr>\n",
       "  <th>Df Model:</th>              <td>     8</td>      <th>                     </th>     <td> </td>   \n",
       "</tr>\n",
       "<tr>\n",
       "  <th>Covariance Type:</th>      <td>nonrobust</td>    <th>                     </th>     <td> </td>   \n",
       "</tr>\n",
       "</table>\n",
       "<table class=\"simpletable\">\n",
       "<tr>\n",
       "      <td></td>         <th>coef</th>     <th>std err</th>      <th>t</th>      <th>P>|t|</th> <th>[95.0% Conf. Int.]</th> \n",
       "</tr>\n",
       "<tr>\n",
       "  <th>Intercept</th> <td> -124.5943</td> <td>   19.887</td> <td>   -6.265</td> <td> 0.000</td> <td> -163.744   -85.445</td>\n",
       "</tr>\n",
       "<tr>\n",
       "  <th>MEI</th>       <td>    0.0642</td> <td>    0.006</td> <td>    9.923</td> <td> 0.000</td> <td>    0.051     0.077</td>\n",
       "</tr>\n",
       "<tr>\n",
       "  <th>CO2</th>       <td>    0.0065</td> <td>    0.002</td> <td>    2.826</td> <td> 0.005</td> <td>    0.002     0.011</td>\n",
       "</tr>\n",
       "<tr>\n",
       "  <th>CH4</th>       <td>    0.0001</td> <td>    0.001</td> <td>    0.240</td> <td> 0.810</td> <td>   -0.001     0.001</td>\n",
       "</tr>\n",
       "<tr>\n",
       "  <th>N2O</th>       <td>   -0.0165</td> <td>    0.009</td> <td>   -1.930</td> <td> 0.055</td> <td>   -0.033     0.000</td>\n",
       "</tr>\n",
       "<tr>\n",
       "  <th>CFC11</th>     <td>   -0.0066</td> <td>    0.002</td> <td>   -4.078</td> <td> 0.000</td> <td>   -0.010    -0.003</td>\n",
       "</tr>\n",
       "<tr>\n",
       "  <th>CFC12</th>     <td>    0.0038</td> <td>    0.001</td> <td>    3.757</td> <td> 0.000</td> <td>    0.002     0.006</td>\n",
       "</tr>\n",
       "<tr>\n",
       "  <th>TSI</th>       <td>    0.0931</td> <td>    0.015</td> <td>    6.313</td> <td> 0.000</td> <td>    0.064     0.122</td>\n",
       "</tr>\n",
       "<tr>\n",
       "  <th>Aerosols</th>  <td>   -1.5376</td> <td>    0.213</td> <td>   -7.210</td> <td> 0.000</td> <td>   -1.957    -1.118</td>\n",
       "</tr>\n",
       "</table>\n",
       "<table class=\"simpletable\">\n",
       "<tr>\n",
       "  <th>Omnibus:</th>       <td> 8.740</td> <th>  Durbin-Watson:     </th> <td>   0.956</td>\n",
       "</tr>\n",
       "<tr>\n",
       "  <th>Prob(Omnibus):</th> <td> 0.013</td> <th>  Jarque-Bera (JB):  </th> <td>  10.327</td>\n",
       "</tr>\n",
       "<tr>\n",
       "  <th>Skew:</th>          <td> 0.289</td> <th>  Prob(JB):          </th> <td> 0.00572</td>\n",
       "</tr>\n",
       "<tr>\n",
       "  <th>Kurtosis:</th>      <td> 3.733</td> <th>  Cond. No.          </th> <td>8.53e+06</td>\n",
       "</tr>\n",
       "</table>"
      ],
      "text/plain": [
       "<class 'statsmodels.iolib.summary.Summary'>\n",
       "\"\"\"\n",
       "                            OLS Regression Results                            \n",
       "==============================================================================\n",
       "Dep. Variable:                   Temp   R-squared:                       0.751\n",
       "Model:                            OLS   Adj. R-squared:                  0.744\n",
       "Method:                 Least Squares   F-statistic:                     103.6\n",
       "Date:                Thu, 30 Jun 2016   Prob (F-statistic):           1.94e-78\n",
       "Time:                        08:08:08   Log-Likelihood:                 280.10\n",
       "No. Observations:                 284   AIC:                            -542.2\n",
       "Df Residuals:                     275   BIC:                            -509.4\n",
       "Df Model:                           8                                         \n",
       "Covariance Type:            nonrobust                                         \n",
       "==============================================================================\n",
       "                 coef    std err          t      P>|t|      [95.0% Conf. Int.]\n",
       "------------------------------------------------------------------------------\n",
       "Intercept   -124.5943     19.887     -6.265      0.000      -163.744   -85.445\n",
       "MEI            0.0642      0.006      9.923      0.000         0.051     0.077\n",
       "CO2            0.0065      0.002      2.826      0.005         0.002     0.011\n",
       "CH4            0.0001      0.001      0.240      0.810        -0.001     0.001\n",
       "N2O           -0.0165      0.009     -1.930      0.055        -0.033     0.000\n",
       "CFC11         -0.0066      0.002     -4.078      0.000        -0.010    -0.003\n",
       "CFC12          0.0038      0.001      3.757      0.000         0.002     0.006\n",
       "TSI            0.0931      0.015      6.313      0.000         0.064     0.122\n",
       "Aerosols      -1.5376      0.213     -7.210      0.000        -1.957    -1.118\n",
       "==============================================================================\n",
       "Omnibus:                        8.740   Durbin-Watson:                   0.956\n",
       "Prob(Omnibus):                  0.013   Jarque-Bera (JB):               10.327\n",
       "Skew:                           0.289   Prob(JB):                      0.00572\n",
       "Kurtosis:                       3.733   Cond. No.                     8.53e+06\n",
       "==============================================================================\n",
       "\n",
       "Warnings:\n",
       "[1] Standard Errors assume that the covariance matrix of the errors is correctly specified.\n",
       "[2] The condition number is large, 8.53e+06. This might indicate that there are\n",
       "strong multicollinearity or other numerical problems.\n",
       "\"\"\""
      ]
     },
     "execution_count": 28,
     "metadata": {},
     "output_type": "execute_result"
    }
   ],
   "source": [
    "climate_model = sm.ols(formula='Temp ~ MEI + CO2 + CH4 + N2O + CFC11 + CFC12 + TSI + Aerosols', data=climate_train)\n",
    "climate_fitting = climate_model.fit()\n",
    "climate_fitting.summary()"
   ]
  },
  {
   "cell_type": "code",
   "execution_count": 29,
   "metadata": {
    "collapsed": true
   },
   "outputs": [],
   "source": [
    "# We can see thar R2 is 0.75\n",
    "# Also, CH4 is not significant. We could put N2O in the same bag.\n",
    "# But we can see that CFC11 is negative... well, make us think that if it increases the temperature will decrease...\n",
    "# Something is affecting this. Maybe there is a strong correlation between variables,"
   ]
  },
  {
   "cell_type": "code",
   "execution_count": 30,
   "metadata": {
    "collapsed": false
   },
   "outputs": [
    {
     "data": {
      "text/plain": [
       "Year        0.993845\n",
       "Month       0.013632\n",
       "MEI        -0.050820\n",
       "CO2         0.976720\n",
       "CH4         0.899839\n",
       "N2O         1.000000\n",
       "CFC11       0.522477\n",
       "CFC12       0.867931\n",
       "TSI         0.199757\n",
       "Aerosols   -0.337055\n",
       "Temp        0.778639\n",
       "Name: N2O, dtype: float64"
      ]
     },
     "execution_count": 30,
     "metadata": {},
     "output_type": "execute_result"
    }
   ],
   "source": [
    "# Checking correlation. Which one the variables are highly correlated with N2O\n",
    "climate_train.corr()['N2O']"
   ]
  },
  {
   "cell_type": "code",
   "execution_count": 31,
   "metadata": {
    "collapsed": false
   },
   "outputs": [
    {
     "data": {
      "text/plain": [
       "Year        0.569106\n",
       "Month      -0.013111\n",
       "MEI         0.069000\n",
       "CO2         0.514060\n",
       "CH4         0.779904\n",
       "N2O         0.522477\n",
       "CFC11       1.000000\n",
       "CFC12       0.868985\n",
       "TSI         0.272046\n",
       "Aerosols   -0.043921\n",
       "Temp        0.407710\n",
       "Name: CFC11, dtype: float64"
      ]
     },
     "execution_count": 31,
     "metadata": {},
     "output_type": "execute_result"
    }
   ],
   "source": [
    "# CO2, CH4, CFC12 have strong correlation with N2O\n",
    "\n",
    "# Checking correlation. Which one the variables are highly correlated with CFC11\n",
    "climate_train.corr()['CFC11']"
   ]
  },
  {
   "cell_type": "code",
   "execution_count": 32,
   "metadata": {
    "collapsed": false
   },
   "outputs": [
    {
     "data": {
      "text/html": [
       "<table class=\"simpletable\">\n",
       "<caption>OLS Regression Results</caption>\n",
       "<tr>\n",
       "  <th>Dep. Variable:</th>          <td>Temp</td>       <th>  R-squared:         </th> <td>   0.726</td>\n",
       "</tr>\n",
       "<tr>\n",
       "  <th>Model:</th>                   <td>OLS</td>       <th>  Adj. R-squared:    </th> <td>   0.722</td>\n",
       "</tr>\n",
       "<tr>\n",
       "  <th>Method:</th>             <td>Least Squares</td>  <th>  F-statistic:       </th> <td>   184.9</td>\n",
       "</tr>\n",
       "<tr>\n",
       "  <th>Date:</th>             <td>Thu, 30 Jun 2016</td> <th>  Prob (F-statistic):</th> <td>3.52e-77</td>\n",
       "</tr>\n",
       "<tr>\n",
       "  <th>Time:</th>                 <td>08:21:08</td>     <th>  Log-Likelihood:    </th> <td>  266.64</td>\n",
       "</tr>\n",
       "<tr>\n",
       "  <th>No. Observations:</th>      <td>   284</td>      <th>  AIC:               </th> <td>  -523.3</td>\n",
       "</tr>\n",
       "<tr>\n",
       "  <th>Df Residuals:</th>          <td>   279</td>      <th>  BIC:               </th> <td>  -505.0</td>\n",
       "</tr>\n",
       "<tr>\n",
       "  <th>Df Model:</th>              <td>     4</td>      <th>                     </th>     <td> </td>   \n",
       "</tr>\n",
       "<tr>\n",
       "  <th>Covariance Type:</th>      <td>nonrobust</td>    <th>                     </th>     <td> </td>   \n",
       "</tr>\n",
       "</table>\n",
       "<table class=\"simpletable\">\n",
       "<tr>\n",
       "      <td></td>         <th>coef</th>     <th>std err</th>      <th>t</th>      <th>P>|t|</th> <th>[95.0% Conf. Int.]</th> \n",
       "</tr>\n",
       "<tr>\n",
       "  <th>Intercept</th> <td> -116.2269</td> <td>   20.223</td> <td>   -5.747</td> <td> 0.000</td> <td> -156.036   -76.418</td>\n",
       "</tr>\n",
       "<tr>\n",
       "  <th>MEI</th>       <td>    0.0642</td> <td>    0.007</td> <td>    9.649</td> <td> 0.000</td> <td>    0.051     0.077</td>\n",
       "</tr>\n",
       "<tr>\n",
       "  <th>N2O</th>       <td>    0.0253</td> <td>    0.001</td> <td>   19.307</td> <td> 0.000</td> <td>    0.023     0.028</td>\n",
       "</tr>\n",
       "<tr>\n",
       "  <th>TSI</th>       <td>    0.0795</td> <td>    0.015</td> <td>    5.344</td> <td> 0.000</td> <td>    0.050     0.109</td>\n",
       "</tr>\n",
       "<tr>\n",
       "  <th>Aerosols</th>  <td>   -1.7017</td> <td>    0.218</td> <td>   -7.806</td> <td> 0.000</td> <td>   -2.131    -1.273</td>\n",
       "</tr>\n",
       "</table>\n",
       "<table class=\"simpletable\">\n",
       "<tr>\n",
       "  <th>Omnibus:</th>       <td>10.908</td> <th>  Durbin-Watson:     </th> <td>   0.842</td>\n",
       "</tr>\n",
       "<tr>\n",
       "  <th>Prob(Omnibus):</th> <td> 0.004</td> <th>  Jarque-Bera (JB):  </th> <td>  15.097</td>\n",
       "</tr>\n",
       "<tr>\n",
       "  <th>Skew:</th>          <td> 0.289</td> <th>  Prob(JB):          </th> <td>0.000527</td>\n",
       "</tr>\n",
       "<tr>\n",
       "  <th>Kurtosis:</th>      <td> 3.971</td> <th>  Cond. No.          </th> <td>5.00e+06</td>\n",
       "</tr>\n",
       "</table>"
      ],
      "text/plain": [
       "<class 'statsmodels.iolib.summary.Summary'>\n",
       "\"\"\"\n",
       "                            OLS Regression Results                            \n",
       "==============================================================================\n",
       "Dep. Variable:                   Temp   R-squared:                       0.726\n",
       "Model:                            OLS   Adj. R-squared:                  0.722\n",
       "Method:                 Least Squares   F-statistic:                     184.9\n",
       "Date:                Thu, 30 Jun 2016   Prob (F-statistic):           3.52e-77\n",
       "Time:                        08:21:08   Log-Likelihood:                 266.64\n",
       "No. Observations:                 284   AIC:                            -523.3\n",
       "Df Residuals:                     279   BIC:                            -505.0\n",
       "Df Model:                           4                                         \n",
       "Covariance Type:            nonrobust                                         \n",
       "==============================================================================\n",
       "                 coef    std err          t      P>|t|      [95.0% Conf. Int.]\n",
       "------------------------------------------------------------------------------\n",
       "Intercept   -116.2269     20.223     -5.747      0.000      -156.036   -76.418\n",
       "MEI            0.0642      0.007      9.649      0.000         0.051     0.077\n",
       "N2O            0.0253      0.001     19.307      0.000         0.023     0.028\n",
       "TSI            0.0795      0.015      5.344      0.000         0.050     0.109\n",
       "Aerosols      -1.7017      0.218     -7.806      0.000        -2.131    -1.273\n",
       "==============================================================================\n",
       "Omnibus:                       10.908   Durbin-Watson:                   0.842\n",
       "Prob(Omnibus):                  0.004   Jarque-Bera (JB):               15.097\n",
       "Skew:                           0.289   Prob(JB):                     0.000527\n",
       "Kurtosis:                       3.971   Cond. No.                     5.00e+06\n",
       "==============================================================================\n",
       "\n",
       "Warnings:\n",
       "[1] Standard Errors assume that the covariance matrix of the errors is correctly specified.\n",
       "[2] The condition number is large,  5e+06. This might indicate that there are\n",
       "strong multicollinearity or other numerical problems.\n",
       "\"\"\""
      ]
     },
     "execution_count": 32,
     "metadata": {},
     "output_type": "execute_result"
    }
   ],
   "source": [
    "# CH4 and CFC12\n",
    "\n",
    "# Let's try to simplify the model with only MEI, TSI, Aerosols and N2O\n",
    "climate_model = sm.ols(formula='Temp ~ MEI + N2O + TSI + Aerosols', data=climate_train)\n",
    "climate_fitting = climate_model.fit()\n",
    "climate_fitting.summary()"
   ]
  },
  {
   "cell_type": "code",
   "execution_count": 37,
   "metadata": {
    "collapsed": false
   },
   "outputs": [
    {
     "data": {
      "text/plain": [
       "0.62860512251000555"
      ]
     },
     "execution_count": 37,
     "metadata": {},
     "output_type": "execute_result"
    }
   ],
   "source": [
    "# We can notice that removing many variables the sign of N2O switches and the model has not lost its explanatory power.\n",
    "# The R2 lowered a bit, but it's ok\n",
    "\n",
    "# Removing CH4\n",
    "climate_model = sm.ols(formula='Temp ~ MEI + CO2 + N2O + CFC11 + CFC12 + TSI + Aerosols', data=climate_train)\n",
    "climate_fitting = climate_model.fit()\n",
    "\n",
    "# Now, let's test our model\n",
    "predictions = climate_fitting.predict(climate_test)\n",
    "\n",
    "# R2\n",
    "SSE = sum((predictions - climate_test.Temp)**2)\n",
    "SST = sum((np.mean(climate_train.Temp) - climate_test.Temp)**2)\n",
    "R2 = 1 - SSE/SST\n",
    "R2"
   ]
  },
  {
   "cell_type": "code",
   "execution_count": null,
   "metadata": {
    "collapsed": true
   },
   "outputs": [],
   "source": []
  }
 ],
 "metadata": {
  "kernelspec": {
   "display_name": "Python 3",
   "language": "python",
   "name": "python3"
  },
  "language_info": {
   "codemirror_mode": {
    "name": "ipython",
    "version": 3
   },
   "file_extension": ".py",
   "mimetype": "text/x-python",
   "name": "python",
   "nbconvert_exporter": "python",
   "pygments_lexer": "ipython3",
   "version": "3.5.1"
  }
 },
 "nbformat": 4,
 "nbformat_minor": 0
}
