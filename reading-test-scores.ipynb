{
 "cells": [
  {
   "cell_type": "code",
   "execution_count": 98,
   "metadata": {
    "collapsed": false
   },
   "outputs": [],
   "source": [
    "import pandas as pd\n",
    "import numpy as np\n",
    "import statsmodels.formula.api as sm\n",
    "from math import sqrt"
   ]
  },
  {
   "cell_type": "code",
   "execution_count": 117,
   "metadata": {
    "collapsed": true
   },
   "outputs": [],
   "source": [
    "pisa_train = pd.read_csv('./data/pisa2009train.csv')\n",
    "pisa_test = pd.read_csv('./data/pisa2009test.csv')"
   ]
  },
  {
   "cell_type": "code",
   "execution_count": 118,
   "metadata": {
    "collapsed": false
   },
   "outputs": [
    {
     "data": {
      "text/plain": [
       "3663"
      ]
     },
     "execution_count": 118,
     "metadata": {},
     "output_type": "execute_result"
    }
   ],
   "source": [
    "# number of students\n",
    "len(pisa_train)"
   ]
  },
  {
   "cell_type": "code",
   "execution_count": 119,
   "metadata": {
    "collapsed": false
   },
   "outputs": [
    {
     "data": {
      "text/plain": [
       "male\n",
       "0    512.940631\n",
       "1    483.532479\n",
       "Name: readingScore, dtype: float64"
      ]
     },
     "execution_count": 119,
     "metadata": {},
     "output_type": "execute_result"
    }
   ],
   "source": [
    "# what is the average reading test score of males and females?\n",
    "pisa_train.pivot_table(values='readingScore', columns='male', aggfunc=np.mean)"
   ]
  },
  {
   "cell_type": "code",
   "execution_count": 120,
   "metadata": {
    "collapsed": true
   },
   "outputs": [],
   "source": [
    "# Which variables are missing data in at least one observation in the training set?\n",
    "# Could be accomplished with pisa_train.summary()"
   ]
  },
  {
   "cell_type": "code",
   "execution_count": 121,
   "metadata": {
    "collapsed": false
   },
   "outputs": [
    {
     "name": "stdout",
     "output_type": "stream",
     "text": [
      "2414\n",
      "990\n"
     ]
    }
   ],
   "source": [
    "# Linear regression discards observations with missing data,\n",
    "# so we will remove all such observations from the training and testing sets\n",
    "pisa_train = pisa_train.dropna()\n",
    "pisa_test = pisa_test.dropna()\n",
    "\n",
    "# number of observations without missing values\n",
    "print(len(pisa_train))\n",
    "print(len(pisa_test))"
   ]
  },
  {
   "cell_type": "code",
   "execution_count": 122,
   "metadata": {
    "collapsed": false
   },
   "outputs": [
    {
     "data": {
      "text/html": [
       "<table class=\"simpletable\">\n",
       "<caption>OLS Regression Results</caption>\n",
       "<tr>\n",
       "  <th>Dep. Variable:</th>      <td>readingScore</td>   <th>  R-squared:         </th> <td>   0.325</td> \n",
       "</tr>\n",
       "<tr>\n",
       "  <th>Model:</th>                   <td>OLS</td>       <th>  Adj. R-squared:    </th> <td>   0.317</td> \n",
       "</tr>\n",
       "<tr>\n",
       "  <th>Method:</th>             <td>Least Squares</td>  <th>  F-statistic:       </th> <td>   41.04</td> \n",
       "</tr>\n",
       "<tr>\n",
       "  <th>Date:</th>             <td>Thu, 30 Jun 2016</td> <th>  Prob (F-statistic):</th> <td>1.72e-180</td>\n",
       "</tr>\n",
       "<tr>\n",
       "  <th>Time:</th>                 <td>19:43:05</td>     <th>  Log-Likelihood:    </th> <td> -13795.</td> \n",
       "</tr>\n",
       "<tr>\n",
       "  <th>No. Observations:</th>      <td>  2414</td>      <th>  AIC:               </th> <td>2.765e+04</td>\n",
       "</tr>\n",
       "<tr>\n",
       "  <th>Df Residuals:</th>          <td>  2385</td>      <th>  BIC:               </th> <td>2.781e+04</td>\n",
       "</tr>\n",
       "<tr>\n",
       "  <th>Df Model:</th>              <td>    28</td>      <th>                     </th>     <td> </td>    \n",
       "</tr>\n",
       "<tr>\n",
       "  <th>Covariance Type:</th>      <td>nonrobust</td>    <th>                     </th>     <td> </td>    \n",
       "</tr>\n",
       "</table>\n",
       "<table class=\"simpletable\">\n",
       "<tr>\n",
       "                   <td></td>                     <th>coef</th>     <th>std err</th>      <th>t</th>      <th>P>|t|</th> <th>[95.0% Conf. Int.]</th> \n",
       "</tr>\n",
       "<tr>\n",
       "  <th>Intercept</th>                          <td>  143.7663</td> <td>   33.841</td> <td>    4.248</td> <td> 0.000</td> <td>   77.405   210.128</td>\n",
       "</tr>\n",
       "<tr>\n",
       "  <th>grade</th>                              <td>   29.5427</td> <td>    2.937</td> <td>   10.057</td> <td> 0.000</td> <td>   23.783    35.303</td>\n",
       "</tr>\n",
       "<tr>\n",
       "  <th>male</th>                               <td>  -14.5217</td> <td>    3.156</td> <td>   -4.601</td> <td> 0.000</td> <td>  -20.710    -8.333</td>\n",
       "</tr>\n",
       "<tr>\n",
       "  <th>preschool</th>                          <td>   -4.4637</td> <td>    3.486</td> <td>   -1.280</td> <td> 0.201</td> <td>  -11.300     2.372</td>\n",
       "</tr>\n",
       "<tr>\n",
       "  <th>expectBachelors</th>                    <td>   55.2671</td> <td>    4.294</td> <td>   12.871</td> <td> 0.000</td> <td>   46.847    63.687</td>\n",
       "</tr>\n",
       "<tr>\n",
       "  <th>motherHS</th>                           <td>    6.0588</td> <td>    6.091</td> <td>    0.995</td> <td> 0.320</td> <td>   -5.886    18.004</td>\n",
       "</tr>\n",
       "<tr>\n",
       "  <th>motherBachelors</th>                    <td>   12.6381</td> <td>    3.861</td> <td>    3.273</td> <td> 0.001</td> <td>    5.066    20.210</td>\n",
       "</tr>\n",
       "<tr>\n",
       "  <th>motherWork</th>                         <td>   -2.8091</td> <td>    3.522</td> <td>   -0.798</td> <td> 0.425</td> <td>   -9.715     4.097</td>\n",
       "</tr>\n",
       "<tr>\n",
       "  <th>fatherHS</th>                           <td>    4.0182</td> <td>    5.579</td> <td>    0.720</td> <td> 0.471</td> <td>   -6.923    14.959</td>\n",
       "</tr>\n",
       "<tr>\n",
       "  <th>fatherBachelors</th>                    <td>   16.9298</td> <td>    3.995</td> <td>    4.237</td> <td> 0.000</td> <td>    9.095    24.764</td>\n",
       "</tr>\n",
       "<tr>\n",
       "  <th>fatherWork</th>                         <td>    5.8428</td> <td>    4.396</td> <td>    1.329</td> <td> 0.184</td> <td>   -2.778    14.463</td>\n",
       "</tr>\n",
       "<tr>\n",
       "  <th>selfBornUS</th>                         <td>   -3.8063</td> <td>    7.324</td> <td>   -0.520</td> <td> 0.603</td> <td>  -18.168    10.555</td>\n",
       "</tr>\n",
       "<tr>\n",
       "  <th>motherBornUS</th>                       <td>   -8.7982</td> <td>    6.588</td> <td>   -1.336</td> <td> 0.182</td> <td>  -21.716     4.120</td>\n",
       "</tr>\n",
       "<tr>\n",
       "  <th>fatherBornUS</th>                       <td>    4.3070</td> <td>    6.264</td> <td>    0.688</td> <td> 0.492</td> <td>   -7.976    16.590</td>\n",
       "</tr>\n",
       "<tr>\n",
       "  <th>englishAtHome</th>                      <td>    8.0357</td> <td>    6.859</td> <td>    1.171</td> <td> 0.242</td> <td>   -5.415    21.487</td>\n",
       "</tr>\n",
       "<tr>\n",
       "  <th>computerForSchoolwork</th>              <td>   22.5002</td> <td>    5.703</td> <td>    3.946</td> <td> 0.000</td> <td>   11.318    33.683</td>\n",
       "</tr>\n",
       "<tr>\n",
       "  <th>read30MinsADay</th>                     <td>   34.8719</td> <td>    3.408</td> <td>   10.231</td> <td> 0.000</td> <td>   28.188    41.556</td>\n",
       "</tr>\n",
       "<tr>\n",
       "  <th>minutesPerWeekEnglish</th>              <td>    0.0128</td> <td>    0.011</td> <td>    1.194</td> <td> 0.233</td> <td>   -0.008     0.034</td>\n",
       "</tr>\n",
       "<tr>\n",
       "  <th>studentsInEnglish</th>                  <td>   -0.2866</td> <td>    0.228</td> <td>   -1.258</td> <td> 0.208</td> <td>   -0.733     0.160</td>\n",
       "</tr>\n",
       "<tr>\n",
       "  <th>schoolHasLibrary</th>                   <td>   12.2151</td> <td>    9.265</td> <td>    1.318</td> <td> 0.187</td> <td>   -5.953    30.383</td>\n",
       "</tr>\n",
       "<tr>\n",
       "  <th>publicSchool</th>                       <td>  -16.8575</td> <td>    6.726</td> <td>   -2.506</td> <td> 0.012</td> <td>  -30.046    -3.669</td>\n",
       "</tr>\n",
       "<tr>\n",
       "  <th>urban</th>                              <td>   -0.1101</td> <td>    3.963</td> <td>   -0.028</td> <td> 0.978</td> <td>   -7.881     7.661</td>\n",
       "</tr>\n",
       "<tr>\n",
       "  <th>schoolSize</th>                         <td>    0.0065</td> <td>    0.002</td> <td>    2.977</td> <td> 0.003</td> <td>    0.002     0.011</td>\n",
       "</tr>\n",
       "<tr>\n",
       "  <th>AmericanIndianAlaskaNative</th>         <td>  -67.2773</td> <td>   16.787</td> <td>   -4.008</td> <td> 0.000</td> <td> -100.196   -34.359</td>\n",
       "</tr>\n",
       "<tr>\n",
       "  <th>Asian</th>                              <td>   -4.1103</td> <td>    9.220</td> <td>   -0.446</td> <td> 0.656</td> <td>  -22.191    13.970</td>\n",
       "</tr>\n",
       "<tr>\n",
       "  <th>Black</th>                              <td>  -67.0123</td> <td>    5.461</td> <td>  -12.271</td> <td> 0.000</td> <td>  -77.721   -56.304</td>\n",
       "</tr>\n",
       "<tr>\n",
       "  <th>Hispanic</th>                           <td>  -38.9755</td> <td>    5.178</td> <td>   -7.528</td> <td> 0.000</td> <td>  -49.129   -28.822</td>\n",
       "</tr>\n",
       "<tr>\n",
       "  <th>Morethanonerace</th>                    <td>  -16.9225</td> <td>    8.496</td> <td>   -1.992</td> <td> 0.047</td> <td>  -33.583    -0.262</td>\n",
       "</tr>\n",
       "<tr>\n",
       "  <th>NativeHawaiianOtherPacificIslander</th> <td>   -5.1016</td> <td>   17.006</td> <td>   -0.300</td> <td> 0.764</td> <td>  -38.449    28.246</td>\n",
       "</tr>\n",
       "</table>\n",
       "<table class=\"simpletable\">\n",
       "<tr>\n",
       "  <th>Omnibus:</th>       <td> 8.273</td> <th>  Durbin-Watson:     </th> <td>   1.998</td>\n",
       "</tr>\n",
       "<tr>\n",
       "  <th>Prob(Omnibus):</th> <td> 0.016</td> <th>  Jarque-Bera (JB):  </th> <td>   8.362</td>\n",
       "</tr>\n",
       "<tr>\n",
       "  <th>Skew:</th>          <td>-0.141</td> <th>  Prob(JB):          </th> <td>  0.0153</td>\n",
       "</tr>\n",
       "<tr>\n",
       "  <th>Kurtosis:</th>      <td> 2.943</td> <th>  Cond. No.          </th> <td>3.70e+04</td>\n",
       "</tr>\n",
       "</table>"
      ],
      "text/plain": [
       "<class 'statsmodels.iolib.summary.Summary'>\n",
       "\"\"\"\n",
       "                            OLS Regression Results                            \n",
       "==============================================================================\n",
       "Dep. Variable:           readingScore   R-squared:                       0.325\n",
       "Model:                            OLS   Adj. R-squared:                  0.317\n",
       "Method:                 Least Squares   F-statistic:                     41.04\n",
       "Date:                Thu, 30 Jun 2016   Prob (F-statistic):          1.72e-180\n",
       "Time:                        19:43:05   Log-Likelihood:                -13795.\n",
       "No. Observations:                2414   AIC:                         2.765e+04\n",
       "Df Residuals:                    2385   BIC:                         2.781e+04\n",
       "Df Model:                          28                                         \n",
       "Covariance Type:            nonrobust                                         \n",
       "======================================================================================================\n",
       "                                         coef    std err          t      P>|t|      [95.0% Conf. Int.]\n",
       "------------------------------------------------------------------------------------------------------\n",
       "Intercept                            143.7663     33.841      4.248      0.000        77.405   210.128\n",
       "grade                                 29.5427      2.937     10.057      0.000        23.783    35.303\n",
       "male                                 -14.5217      3.156     -4.601      0.000       -20.710    -8.333\n",
       "preschool                             -4.4637      3.486     -1.280      0.201       -11.300     2.372\n",
       "expectBachelors                       55.2671      4.294     12.871      0.000        46.847    63.687\n",
       "motherHS                               6.0588      6.091      0.995      0.320        -5.886    18.004\n",
       "motherBachelors                       12.6381      3.861      3.273      0.001         5.066    20.210\n",
       "motherWork                            -2.8091      3.522     -0.798      0.425        -9.715     4.097\n",
       "fatherHS                               4.0182      5.579      0.720      0.471        -6.923    14.959\n",
       "fatherBachelors                       16.9298      3.995      4.237      0.000         9.095    24.764\n",
       "fatherWork                             5.8428      4.396      1.329      0.184        -2.778    14.463\n",
       "selfBornUS                            -3.8063      7.324     -0.520      0.603       -18.168    10.555\n",
       "motherBornUS                          -8.7982      6.588     -1.336      0.182       -21.716     4.120\n",
       "fatherBornUS                           4.3070      6.264      0.688      0.492        -7.976    16.590\n",
       "englishAtHome                          8.0357      6.859      1.171      0.242        -5.415    21.487\n",
       "computerForSchoolwork                 22.5002      5.703      3.946      0.000        11.318    33.683\n",
       "read30MinsADay                        34.8719      3.408     10.231      0.000        28.188    41.556\n",
       "minutesPerWeekEnglish                  0.0128      0.011      1.194      0.233        -0.008     0.034\n",
       "studentsInEnglish                     -0.2866      0.228     -1.258      0.208        -0.733     0.160\n",
       "schoolHasLibrary                      12.2151      9.265      1.318      0.187        -5.953    30.383\n",
       "publicSchool                         -16.8575      6.726     -2.506      0.012       -30.046    -3.669\n",
       "urban                                 -0.1101      3.963     -0.028      0.978        -7.881     7.661\n",
       "schoolSize                             0.0065      0.002      2.977      0.003         0.002     0.011\n",
       "AmericanIndianAlaskaNative           -67.2773     16.787     -4.008      0.000      -100.196   -34.359\n",
       "Asian                                 -4.1103      9.220     -0.446      0.656       -22.191    13.970\n",
       "Black                                -67.0123      5.461    -12.271      0.000       -77.721   -56.304\n",
       "Hispanic                             -38.9755      5.178     -7.528      0.000       -49.129   -28.822\n",
       "Morethanonerace                      -16.9225      8.496     -1.992      0.047       -33.583    -0.262\n",
       "NativeHawaiianOtherPacificIslander    -5.1016     17.006     -0.300      0.764       -38.449    28.246\n",
       "==============================================================================\n",
       "Omnibus:                        8.273   Durbin-Watson:                   1.998\n",
       "Prob(Omnibus):                  0.016   Jarque-Bera (JB):                8.362\n",
       "Skew:                          -0.141   Prob(JB):                       0.0153\n",
       "Kurtosis:                       2.943   Cond. No.                     3.70e+04\n",
       "==============================================================================\n",
       "\n",
       "Warnings:\n",
       "[1] Standard Errors assume that the covariance matrix of the errors is correctly specified.\n",
       "[2] The condition number is large, 3.7e+04. This might indicate that there are\n",
       "strong multicollinearity or other numerical problems.\n",
       "\"\"\""
      ]
     },
     "execution_count": 122,
     "metadata": {},
     "output_type": "execute_result"
    }
   ],
   "source": [
    "# Building a model\n",
    "# Because the race variable takes on text values, it was loaded as a factor variable when we read in the dataset.\n",
    "# To include unordered factors in a linear regression model, we define one level as the \"reference level\"\n",
    "# and add a binary variable for each of the remaining levels.\n",
    "# In this way, a factor with n levels is replaced by n-1 binary variables.\n",
    "# The reference level is typically selected to be the most frequently occurring level in the dataset.\n",
    "# We can do this by passing our reference variable to patsy.Treatment (error with test data)\n",
    "\n",
    "# variable += ' + C(pisa_train.raceeth, Treatment(reference=\"White\"))'\n",
    "renamed = {'American Indian/Alaska Native': 'AmericanIndianAlaskaNative',\n",
    "           'Native Hawaiian/Other Pacific Islander': 'NativeHawaiianOtherPacificIslander',\n",
    "           'More than one race': 'Morethanonerace'}\n",
    "\n",
    "dummies = pd.get_dummies(pisa_train.raceeth)\n",
    "pisa_train = pd.concat([pisa_train, dummies], axis=1)\n",
    "pisa_train = pisa_train.drop(['raceeth', 'White'], axis=1)\n",
    "pisa_train.rename(columns=renamed, inplace=True)\n",
    "\n",
    "dummies = pd.get_dummies(pisa_test.raceeth)\n",
    "pisa_test = pd.concat([pisa_test, dummies], axis=1)\n",
    "pisa_test = pisa_test.drop(['raceeth', 'White'], axis=1)\n",
    "pisa_test.rename(columns=renamed, inplace=True)\n",
    "\n",
    "variable = list(pisa_train.columns)\n",
    "variable.remove('readingScore')\n",
    "variable = ' + '.join(variable)\n",
    "\n",
    "pisa_reg = sm.ols(formula='readingScore ~ '+variable, data=pisa_train).fit()\n",
    "pisa_reg.summary()"
   ]
  },
  {
   "cell_type": "code",
   "execution_count": 123,
   "metadata": {
    "collapsed": false
   },
   "outputs": [],
   "source": [
    "# R2 = 0.325"
   ]
  },
  {
   "cell_type": "markdown",
   "metadata": {},
   "source": [
    "Note that this R-squared is lower than the ones for the models we saw in the lectures and recitation. This does not necessarily imply that the model is of poor quality. More often than not, it simply means that the prediction problem at hand (predicting a student's test score based on demographic and school-related variables) is more difficult than other prediction problems (like predicting a team's number of wins from their runs scored and allowed, or predicting the quality of wine from weather conditions)."
   ]
  },
  {
   "cell_type": "code",
   "execution_count": 124,
   "metadata": {
    "collapsed": false
   },
   "outputs": [
    {
     "data": {
      "text/plain": [
       "73.36555143298459"
      ]
     },
     "execution_count": 124,
     "metadata": {},
     "output_type": "execute_result"
    }
   ],
   "source": [
    "# Computing the root-mean squared error of the model\n",
    "SSE = sum((pisa_reg.resid)**2)\n",
    "RMSE = sqrt(SSE/len(pisa_train))\n",
    "RMSE"
   ]
  },
  {
   "cell_type": "code",
   "execution_count": 127,
   "metadata": {
    "collapsed": false
   },
   "outputs": [
    {
     "data": {
      "text/plain": [
       "284.46831179512253"
      ]
     },
     "execution_count": 127,
     "metadata": {},
     "output_type": "execute_result"
    }
   ],
   "source": [
    "# Predicting on unseen data\n",
    "# What is the range between the maximum and minimum predicted reading score on the test set?\n",
    "\n",
    "predictions = pisa_reg.predict(pisa_test)\n",
    "predictions.max() - predictions.min()"
   ]
  },
  {
   "cell_type": "code",
   "execution_count": 131,
   "metadata": {
    "collapsed": false
   },
   "outputs": [
    {
     "data": {
      "text/plain": [
       "76.29079383109166"
      ]
     },
     "execution_count": 131,
     "metadata": {},
     "output_type": "execute_result"
    }
   ],
   "source": [
    "# Test set SSE and RMSE\n",
    "SSE = sum((predictions - pisa_test.readingScore)**2)\n",
    "RMSE = sqrt(SSE/len(pisa_test))\n",
    "RMSE"
   ]
  },
  {
   "cell_type": "code",
   "execution_count": 132,
   "metadata": {
    "collapsed": false
   },
   "outputs": [
    {
     "data": {
      "text/plain": [
       "517.96288732394362"
      ]
     },
     "execution_count": 132,
     "metadata": {},
     "output_type": "execute_result"
    }
   ],
   "source": [
    "# Baseline prediction and test-set SSE\n",
    "baseline = np.mean(pisa_train.readingScore)\n",
    "baseline"
   ]
  },
  {
   "cell_type": "code",
   "execution_count": 134,
   "metadata": {
    "collapsed": false
   },
   "outputs": [
    {
     "data": {
      "text/plain": [
       "7802354.0776138408"
      ]
     },
     "execution_count": 134,
     "metadata": {},
     "output_type": "execute_result"
    }
   ],
   "source": [
    "# What is the sum of squared errors of the baseline model on the testing set?\n",
    "SST = sum((baseline - pisa_test.readingScore)**2)\n",
    "SST"
   ]
  },
  {
   "cell_type": "code",
   "execution_count": 135,
   "metadata": {
    "collapsed": false
   },
   "outputs": [
    {
     "data": {
      "text/plain": [
       "0.26149437543770848"
      ]
     },
     "execution_count": 135,
     "metadata": {},
     "output_type": "execute_result"
    }
   ],
   "source": [
    "# Test-set R-squared\n",
    "R2 = 1 - SSE/SST\n",
    "R2"
   ]
  },
  {
   "cell_type": "code",
   "execution_count": null,
   "metadata": {
    "collapsed": true
   },
   "outputs": [],
   "source": []
  }
 ],
 "metadata": {
  "kernelspec": {
   "display_name": "Python 3",
   "language": "python",
   "name": "python3"
  },
  "language_info": {
   "codemirror_mode": {
    "name": "ipython",
    "version": 3
   },
   "file_extension": ".py",
   "mimetype": "text/x-python",
   "name": "python",
   "nbconvert_exporter": "python",
   "pygments_lexer": "ipython3",
   "version": "3.4.4"
  }
 },
 "nbformat": 4,
 "nbformat_minor": 0
}
