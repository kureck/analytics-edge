{
 "cells": [
  {
   "cell_type": "code",
   "execution_count": 47,
   "metadata": {
    "collapsed": true
   },
   "outputs": [],
   "source": [
    "%matplotlib inline\n",
    "import pandas as pd\n",
    "import numpy as np\n",
    "import statsmodels.formula.api as sm\n",
    "from sklearn.linear_model import LinearRegression"
   ]
  },
  {
   "cell_type": "code",
   "execution_count": 61,
   "metadata": {
    "collapsed": false
   },
   "outputs": [],
   "source": [
    "baseball = pd.read_csv('./data/baseball.csv')\n",
    "moneyball = baseball.loc[baseball.Year < 2002]\n",
    "# To avoid some copy warning\n",
    "moneyball.is_copy = False"
   ]
  },
  {
   "cell_type": "code",
   "execution_count": 62,
   "metadata": {
    "collapsed": false
   },
   "outputs": [],
   "source": [
    "# Runs difference = Runs score - runs allowed (to make this a little easier)\n",
    "moneyball.loc[:,'RD'] = moneyball.RS - moneyball.RA"
   ]
  },
  {
   "cell_type": "code",
   "execution_count": 42,
   "metadata": {
    "collapsed": false
   },
   "outputs": [
    {
     "data": {
      "text/plain": [
       "<matplotlib.axes._subplots.AxesSubplot at 0x11101edd8>"
      ]
     },
     "execution_count": 42,
     "metadata": {},
     "output_type": "execute_result"
    },
    {
     "data": {
      "image/png": "[encoded data removed]",
      "text/plain": [
       "<matplotlib.figure.Figure at 0x111003ba8>"
      ]
     },
     "metadata": {},
     "output_type": "display_data"
    }
   ],
   "source": [
    "moneyball.plot('RD', 'W', kind='scatter')"
   ]
  },
  {
   "cell_type": "code",
   "execution_count": 43,
   "metadata": {
    "collapsed": true
   },
   "outputs": [],
   "source": [
    "# We can see a strong linear relation between these two variables"
   ]
  },
  {
   "cell_type": "code",
   "execution_count": 46,
   "metadata": {
    "collapsed": false
   },
   "outputs": [
    {
     "data": {
      "text/plain": [
       "LinearRegression(copy_X=True, fit_intercept=True, n_jobs=1, normalize=False)"
      ]
     },
     "execution_count": 46,
     "metadata": {},
     "output_type": "execute_result"
    }
   ],
   "source": [
    "# Using sklearn\n",
    "wins_reg = LinearRegression()\n",
    "wins_reg.fit(moneyball[['RD']], moneyball.W)"
   ]
  },
  {
   "cell_type": "code",
   "execution_count": 50,
   "metadata": {
    "collapsed": false
   },
   "outputs": [
    {
     "data": {
      "text/html": [
       "<table class=\"simpletable\">\n",
       "<caption>OLS Regression Results</caption>\n",
       "<tr>\n",
       "  <th>Dep. Variable:</th>            <td>W</td>        <th>  R-squared:         </th> <td>   0.881</td>\n",
       "</tr>\n",
       "<tr>\n",
       "  <th>Model:</th>                   <td>OLS</td>       <th>  Adj. R-squared:    </th> <td>   0.881</td>\n",
       "</tr>\n",
       "<tr>\n",
       "  <th>Method:</th>             <td>Least Squares</td>  <th>  F-statistic:       </th> <td>   6651.</td>\n",
       "</tr>\n",
       "<tr>\n",
       "  <th>Date:</th>             <td>Wed, 29 Jun 2016</td> <th>  Prob (F-statistic):</th>  <td>  0.00</td> \n",
       "</tr>\n",
       "<tr>\n",
       "  <th>Time:</th>                 <td>19:00:29</td>     <th>  Log-Likelihood:    </th> <td> -2515.5</td>\n",
       "</tr>\n",
       "<tr>\n",
       "  <th>No. Observations:</th>      <td>   902</td>      <th>  AIC:               </th> <td>   5035.</td>\n",
       "</tr>\n",
       "<tr>\n",
       "  <th>Df Residuals:</th>          <td>   900</td>      <th>  BIC:               </th> <td>   5045.</td>\n",
       "</tr>\n",
       "<tr>\n",
       "  <th>Df Model:</th>              <td>     1</td>      <th>                     </th>     <td> </td>   \n",
       "</tr>\n",
       "<tr>\n",
       "  <th>Covariance Type:</th>      <td>nonrobust</td>    <th>                     </th>     <td> </td>   \n",
       "</tr>\n",
       "</table>\n",
       "<table class=\"simpletable\">\n",
       "<tr>\n",
       "      <td></td>         <th>coef</th>     <th>std err</th>      <th>t</th>      <th>P>|t|</th> <th>[95.0% Conf. Int.]</th> \n",
       "</tr>\n",
       "<tr>\n",
       "  <th>Intercept</th> <td>   80.8814</td> <td>    0.131</td> <td>  616.675</td> <td> 0.000</td> <td>   80.624    81.139</td>\n",
       "</tr>\n",
       "<tr>\n",
       "  <th>RD</th>        <td>    0.1058</td> <td>    0.001</td> <td>   81.554</td> <td> 0.000</td> <td>    0.103     0.108</td>\n",
       "</tr>\n",
       "</table>\n",
       "<table class=\"simpletable\">\n",
       "<tr>\n",
       "  <th>Omnibus:</th>       <td> 5.788</td> <th>  Durbin-Watson:     </th> <td>   2.076</td>\n",
       "</tr>\n",
       "<tr>\n",
       "  <th>Prob(Omnibus):</th> <td> 0.055</td> <th>  Jarque-Bera (JB):  </th> <td>   5.736</td>\n",
       "</tr>\n",
       "<tr>\n",
       "  <th>Skew:</th>          <td>-0.195</td> <th>  Prob(JB):          </th> <td>  0.0568</td>\n",
       "</tr>\n",
       "<tr>\n",
       "  <th>Kurtosis:</th>      <td> 3.033</td> <th>  Cond. No.          </th> <td>    101.</td>\n",
       "</tr>\n",
       "</table>"
      ],
      "text/plain": [
       "<class 'statsmodels.iolib.summary.Summary'>\n",
       "\"\"\"\n",
       "                            OLS Regression Results                            \n",
       "==============================================================================\n",
       "Dep. Variable:                      W   R-squared:                       0.881\n",
       "Model:                            OLS   Adj. R-squared:                  0.881\n",
       "Method:                 Least Squares   F-statistic:                     6651.\n",
       "Date:                Wed, 29 Jun 2016   Prob (F-statistic):               0.00\n",
       "Time:                        19:00:29   Log-Likelihood:                -2515.5\n",
       "No. Observations:                 902   AIC:                             5035.\n",
       "Df Residuals:                     900   BIC:                             5045.\n",
       "Df Model:                           1                                         \n",
       "Covariance Type:            nonrobust                                         \n",
       "==============================================================================\n",
       "                 coef    std err          t      P>|t|      [95.0% Conf. Int.]\n",
       "------------------------------------------------------------------------------\n",
       "Intercept     80.8814      0.131    616.675      0.000        80.624    81.139\n",
       "RD             0.1058      0.001     81.554      0.000         0.103     0.108\n",
       "==============================================================================\n",
       "Omnibus:                        5.788   Durbin-Watson:                   2.076\n",
       "Prob(Omnibus):                  0.055   Jarque-Bera (JB):                5.736\n",
       "Skew:                          -0.195   Prob(JB):                       0.0568\n",
       "Kurtosis:                       3.033   Cond. No.                         101.\n",
       "==============================================================================\n",
       "\n",
       "Warnings:\n",
       "[1] Standard Errors assume that the covariance matrix of the errors is correctly specified.\n",
       "\"\"\""
      ]
     },
     "execution_count": 50,
     "metadata": {},
     "output_type": "execute_result"
    }
   ],
   "source": [
    "# Using statsmodels\n",
    "wins_reg_ols = sm.ols(formula='W ~ RD', data=moneyball)\n",
    "fitted = wins_reg_ols.fit()\n",
    "fitted.summary()"
   ]
  },
  {
   "cell_type": "code",
   "execution_count": 51,
   "metadata": {
    "collapsed": true
   },
   "outputs": [],
   "source": [
    "# So we have: W = 80.8814 + 0.1058 * RD\n",
    "# And we want W >= 95 (it's the threshold for the playoffs)\n",
    "# 80.8814 + 0.1058 * RD >= 95\n",
    "# RD >= 133.4"
   ]
  },
  {
   "cell_type": "markdown",
   "metadata": {},
   "source": [
    "## Predicting Runs\n",
    "\n",
    "How does a team score more runs?\n",
    "\n",
    "On-Base Percentage (OBP)\n",
    "* percentage of time a player gets on base, including walks.\n",
    "\n",
    "Slugging Percentage (SLG)\n",
    "* how far a player gets around the bases on his turn, and measures the power of a hitter.\n",
    "\n",
    "Most teams focused on Batting Average (BA)\n",
    "\n",
    "But the A's claimed that OBP was the most important, followed by SLG and BA was overvalued.\n",
    "\n",
    "Let's see if we can predict Run Scores using these three hitting stats building a linear regression."
   ]
  },
  {
   "cell_type": "code",
   "execution_count": 54,
   "metadata": {
    "collapsed": false
   },
   "outputs": [
    {
     "data": {
      "text/html": [
       "<table class=\"simpletable\">\n",
       "<caption>OLS Regression Results</caption>\n",
       "<tr>\n",
       "  <th>Dep. Variable:</th>           <td>RS</td>        <th>  R-squared:         </th> <td>   0.930</td>\n",
       "</tr>\n",
       "<tr>\n",
       "  <th>Model:</th>                   <td>OLS</td>       <th>  Adj. R-squared:    </th> <td>   0.930</td>\n",
       "</tr>\n",
       "<tr>\n",
       "  <th>Method:</th>             <td>Least Squares</td>  <th>  F-statistic:       </th> <td>   3989.</td>\n",
       "</tr>\n",
       "<tr>\n",
       "  <th>Date:</th>             <td>Wed, 29 Jun 2016</td> <th>  Prob (F-statistic):</th>  <td>  0.00</td> \n",
       "</tr>\n",
       "<tr>\n",
       "  <th>Time:</th>                 <td>19:26:32</td>     <th>  Log-Likelihood:    </th> <td> -4170.2</td>\n",
       "</tr>\n",
       "<tr>\n",
       "  <th>No. Observations:</th>      <td>   902</td>      <th>  AIC:               </th> <td>   8348.</td>\n",
       "</tr>\n",
       "<tr>\n",
       "  <th>Df Residuals:</th>          <td>   898</td>      <th>  BIC:               </th> <td>   8368.</td>\n",
       "</tr>\n",
       "<tr>\n",
       "  <th>Df Model:</th>              <td>     3</td>      <th>                     </th>     <td> </td>   \n",
       "</tr>\n",
       "<tr>\n",
       "  <th>Covariance Type:</th>      <td>nonrobust</td>    <th>                     </th>     <td> </td>   \n",
       "</tr>\n",
       "</table>\n",
       "<table class=\"simpletable\">\n",
       "<tr>\n",
       "      <td></td>         <th>coef</th>     <th>std err</th>      <th>t</th>      <th>P>|t|</th> <th>[95.0% Conf. Int.]</th> \n",
       "</tr>\n",
       "<tr>\n",
       "  <th>Intercept</th> <td> -788.4570</td> <td>   19.697</td> <td>  -40.029</td> <td> 0.000</td> <td> -827.115  -749.799</td>\n",
       "</tr>\n",
       "<tr>\n",
       "  <th>OBP</th>       <td> 2917.4214</td> <td>  110.466</td> <td>   26.410</td> <td> 0.000</td> <td> 2700.619  3134.224</td>\n",
       "</tr>\n",
       "<tr>\n",
       "  <th>SLG</th>       <td> 1637.9277</td> <td>   45.994</td> <td>   35.612</td> <td> 0.000</td> <td> 1547.659  1728.197</td>\n",
       "</tr>\n",
       "<tr>\n",
       "  <th>BA</th>        <td> -368.9661</td> <td>  130.580</td> <td>   -2.826</td> <td> 0.005</td> <td> -625.244  -112.688</td>\n",
       "</tr>\n",
       "</table>\n",
       "<table class=\"simpletable\">\n",
       "<tr>\n",
       "  <th>Omnibus:</th>       <td> 3.441</td> <th>  Durbin-Watson:     </th> <td>   1.943</td>\n",
       "</tr>\n",
       "<tr>\n",
       "  <th>Prob(Omnibus):</th> <td> 0.179</td> <th>  Jarque-Bera (JB):  </th> <td>   3.381</td>\n",
       "</tr>\n",
       "<tr>\n",
       "  <th>Skew:</th>          <td> 0.150</td> <th>  Prob(JB):          </th> <td>   0.184</td>\n",
       "</tr>\n",
       "<tr>\n",
       "  <th>Kurtosis:</th>      <td> 3.018</td> <th>  Cond. No.          </th> <td>    214.</td>\n",
       "</tr>\n",
       "</table>"
      ],
      "text/plain": [
       "<class 'statsmodels.iolib.summary.Summary'>\n",
       "\"\"\"\n",
       "                            OLS Regression Results                            \n",
       "==============================================================================\n",
       "Dep. Variable:                     RS   R-squared:                       0.930\n",
       "Model:                            OLS   Adj. R-squared:                  0.930\n",
       "Method:                 Least Squares   F-statistic:                     3989.\n",
       "Date:                Wed, 29 Jun 2016   Prob (F-statistic):               0.00\n",
       "Time:                        19:26:32   Log-Likelihood:                -4170.2\n",
       "No. Observations:                 902   AIC:                             8348.\n",
       "Df Residuals:                     898   BIC:                             8368.\n",
       "Df Model:                           3                                         \n",
       "Covariance Type:            nonrobust                                         \n",
       "==============================================================================\n",
       "                 coef    std err          t      P>|t|      [95.0% Conf. Int.]\n",
       "------------------------------------------------------------------------------\n",
       "Intercept   -788.4570     19.697    -40.029      0.000      -827.115  -749.799\n",
       "OBP         2917.4214    110.466     26.410      0.000      2700.619  3134.224\n",
       "SLG         1637.9277     45.994     35.612      0.000      1547.659  1728.197\n",
       "BA          -368.9661    130.580     -2.826      0.005      -625.244  -112.688\n",
       "==============================================================================\n",
       "Omnibus:                        3.441   Durbin-Watson:                   1.943\n",
       "Prob(Omnibus):                  0.179   Jarque-Bera (JB):                3.381\n",
       "Skew:                           0.150   Prob(JB):                        0.184\n",
       "Kurtosis:                       3.018   Cond. No.                         214.\n",
       "==============================================================================\n",
       "\n",
       "Warnings:\n",
       "[1] Standard Errors assume that the covariance matrix of the errors is correctly specified.\n",
       "\"\"\""
      ]
     },
     "execution_count": 54,
     "metadata": {},
     "output_type": "execute_result"
    }
   ],
   "source": [
    "runs_reg = sm.ols(formula='RS ~ OBP + SLG + BA', data=moneyball)\n",
    "fitting_runs = runs_reg.fit()\n",
    "fitting_runs.summary()"
   ]
  },
  {
   "cell_type": "markdown",
   "metadata": {},
   "source": [
    "We can see that all features are significant and our R2 is 0.93. But if we look at our weights, we can see that BA is negative. Impling that a team with lower batting average will score more runs, a bit couterintuitive.\n",
    "\n",
    "What's going on is a case of multicollinearity because these three features are highly correlated.\n",
    "\n",
    "Let's remove BA"
   ]
  },
  {
   "cell_type": "code",
   "execution_count": 55,
   "metadata": {
    "collapsed": false
   },
   "outputs": [
    {
     "data": {
      "text/html": [
       "<table class=\"simpletable\">\n",
       "<caption>OLS Regression Results</caption>\n",
       "<tr>\n",
       "  <th>Dep. Variable:</th>           <td>RS</td>        <th>  R-squared:         </th> <td>   0.930</td>\n",
       "</tr>\n",
       "<tr>\n",
       "  <th>Model:</th>                   <td>OLS</td>       <th>  Adj. R-squared:    </th> <td>   0.929</td>\n",
       "</tr>\n",
       "<tr>\n",
       "  <th>Method:</th>             <td>Least Squares</td>  <th>  F-statistic:       </th> <td>   5934.</td>\n",
       "</tr>\n",
       "<tr>\n",
       "  <th>Date:</th>             <td>Wed, 29 Jun 2016</td> <th>  Prob (F-statistic):</th>  <td>  0.00</td> \n",
       "</tr>\n",
       "<tr>\n",
       "  <th>Time:</th>                 <td>19:31:12</td>     <th>  Log-Likelihood:    </th> <td> -4174.2</td>\n",
       "</tr>\n",
       "<tr>\n",
       "  <th>No. Observations:</th>      <td>   902</td>      <th>  AIC:               </th> <td>   8354.</td>\n",
       "</tr>\n",
       "<tr>\n",
       "  <th>Df Residuals:</th>          <td>   899</td>      <th>  BIC:               </th> <td>   8369.</td>\n",
       "</tr>\n",
       "<tr>\n",
       "  <th>Df Model:</th>              <td>     2</td>      <th>                     </th>     <td> </td>   \n",
       "</tr>\n",
       "<tr>\n",
       "  <th>Covariance Type:</th>      <td>nonrobust</td>    <th>                     </th>     <td> </td>   \n",
       "</tr>\n",
       "</table>\n",
       "<table class=\"simpletable\">\n",
       "<tr>\n",
       "      <td></td>         <th>coef</th>     <th>std err</th>      <th>t</th>      <th>P>|t|</th> <th>[95.0% Conf. Int.]</th> \n",
       "</tr>\n",
       "<tr>\n",
       "  <th>Intercept</th> <td> -804.6271</td> <td>   18.921</td> <td>  -42.526</td> <td> 0.000</td> <td> -841.761  -767.493</td>\n",
       "</tr>\n",
       "<tr>\n",
       "  <th>OBP</th>       <td> 2737.7680</td> <td>   90.685</td> <td>   30.190</td> <td> 0.000</td> <td> 2559.790  2915.746</td>\n",
       "</tr>\n",
       "<tr>\n",
       "  <th>SLG</th>       <td> 1584.9086</td> <td>   42.156</td> <td>   37.597</td> <td> 0.000</td> <td> 1502.174  1667.643</td>\n",
       "</tr>\n",
       "</table>\n",
       "<table class=\"simpletable\">\n",
       "<tr>\n",
       "  <th>Omnibus:</th>       <td> 3.099</td> <th>  Durbin-Watson:     </th> <td>   1.933</td>\n",
       "</tr>\n",
       "<tr>\n",
       "  <th>Prob(Omnibus):</th> <td> 0.212</td> <th>  Jarque-Bera (JB):  </th> <td>   3.106</td>\n",
       "</tr>\n",
       "<tr>\n",
       "  <th>Skew:</th>          <td> 0.143</td> <th>  Prob(JB):          </th> <td>   0.212</td>\n",
       "</tr>\n",
       "<tr>\n",
       "  <th>Kurtosis:</th>      <td> 2.972</td> <th>  Cond. No.          </th> <td>    134.</td>\n",
       "</tr>\n",
       "</table>"
      ],
      "text/plain": [
       "<class 'statsmodels.iolib.summary.Summary'>\n",
       "\"\"\"\n",
       "                            OLS Regression Results                            \n",
       "==============================================================================\n",
       "Dep. Variable:                     RS   R-squared:                       0.930\n",
       "Model:                            OLS   Adj. R-squared:                  0.929\n",
       "Method:                 Least Squares   F-statistic:                     5934.\n",
       "Date:                Wed, 29 Jun 2016   Prob (F-statistic):               0.00\n",
       "Time:                        19:31:12   Log-Likelihood:                -4174.2\n",
       "No. Observations:                 902   AIC:                             8354.\n",
       "Df Residuals:                     899   BIC:                             8369.\n",
       "Df Model:                           2                                         \n",
       "Covariance Type:            nonrobust                                         \n",
       "==============================================================================\n",
       "                 coef    std err          t      P>|t|      [95.0% Conf. Int.]\n",
       "------------------------------------------------------------------------------\n",
       "Intercept   -804.6271     18.921    -42.526      0.000      -841.761  -767.493\n",
       "OBP         2737.7680     90.685     30.190      0.000      2559.790  2915.746\n",
       "SLG         1584.9086     42.156     37.597      0.000      1502.174  1667.643\n",
       "==============================================================================\n",
       "Omnibus:                        3.099   Durbin-Watson:                   1.933\n",
       "Prob(Omnibus):                  0.212   Jarque-Bera (JB):                3.106\n",
       "Skew:                           0.143   Prob(JB):                        0.212\n",
       "Kurtosis:                       2.972   Cond. No.                         134.\n",
       "==============================================================================\n",
       "\n",
       "Warnings:\n",
       "[1] Standard Errors assume that the covariance matrix of the errors is correctly specified.\n",
       "\"\"\""
      ]
     },
     "execution_count": 55,
     "metadata": {},
     "output_type": "execute_result"
    }
   ],
   "source": [
    "runs_reg = sm.ols(formula='RS ~ OBP + SLG', data=moneyball)\n",
    "fitting_runs = runs_reg.fit()\n",
    "fitting_runs.summary()"
   ]
  },
  {
   "cell_type": "markdown",
   "metadata": {},
   "source": [
    "We can see that our model is almost the same and simplier."
   ]
  },
  {
   "cell_type": "markdown",
   "metadata": {},
   "source": [
    "\n"
   ]
  },
  {
   "cell_type": "code",
   "execution_count": null,
   "metadata": {
    "collapsed": true
   },
   "outputs": [],
   "source": []
  }
 ],
 "metadata": {
  "kernelspec": {
   "display_name": "Python 3",
   "language": "python",
   "name": "python3"
  },
  "language_info": {
   "codemirror_mode": {
    "name": "ipython",
    "version": 3
   },
   "file_extension": ".py",
   "mimetype": "text/x-python",
   "name": "python",
   "nbconvert_exporter": "python",
   "pygments_lexer": "ipython3",
   "version": "3.4.4"
  }
 },
 "nbformat": 4,
 "nbformat_minor": 0
}
